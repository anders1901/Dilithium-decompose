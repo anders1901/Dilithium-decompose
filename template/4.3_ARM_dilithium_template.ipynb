{
 "cells": [
  {
   "cell_type": "markdown",
   "id": "3d9a3a59-688e-4210-9907-e2729e13caf9",
   "metadata": {},
   "source": [
    "### **Templates - HammingWeight of `w0` 4-bytes**\n",
    "--------------"
   ]
  },
  {
   "attachments": {},
   "cell_type": "markdown",
   "id": "96a49062",
   "metadata": {},
   "source": [
    "##### **Libraries**\n",
    "--------------"
   ]
  },
  {
   "cell_type": "code",
   "execution_count": 1,
   "id": "3ec0d8a9-61ca-4424-bb6b-d38e5340970a",
   "metadata": {},
   "outputs": [],
   "source": [
    "import numpy as np\n",
    "import matplotlib.pyplot as plt\n",
    "\n",
    "import scared\n",
    "import estraces\n",
    "\n",
    "from IPython.display import display\n",
    "from ipywidgets import interact\n",
    "\n",
    "import warnings\n",
    "warnings.filterwarnings('ignore')"
   ]
  },
  {
   "cell_type": "code",
   "execution_count": 2,
   "id": "63b871b0-b443-4e0c-8071-d318a343d253",
   "metadata": {},
   "outputs": [],
   "source": [
    "# Useful functions and parameters\n",
    "plt.rcParams[\"figure.figsize\"] = (20,2)\n",
    "\n",
    "vhex = np.vectorize(hex)\n",
    "vhex2 = np.frompyfunc(format, 2, 1) "
   ]
  },
  {
   "cell_type": "markdown",
   "id": "7f20d1e1-eca8-4c5d-8c7e-109d32984225",
   "metadata": {},
   "source": [
    "#### **Loading the data sets**\n",
    "--------"
   ]
  },
  {
   "cell_type": "code",
   "execution_count": 3,
   "id": "83da357f-5d11-44ac-b7ba-1427a5f82241",
   "metadata": {},
   "outputs": [],
   "source": [
    "ths_building = scared.traces.read_ths_from_ets_file('./dataset/profiling_hw_w0_v4.zip.ets')\n",
    "ths_matching = scared.traces.read_ths_from_ets_file('./dataset/matching/matching_fixed_v3.zip.ets')"
   ]
  },
  {
   "cell_type": "markdown",
   "id": "515d4c5f-6fdf-44f2-b2da-7048291cab24",
   "metadata": {},
   "source": [
    "#### **Loading POIs**\n",
    "--------"
   ]
  },
  {
   "cell_type": "code",
   "execution_count": 4,
   "id": "d82daca5-6521-4732-9b93-64b1f9a787ec",
   "metadata": {},
   "outputs": [
    {
     "name": "stdout",
     "output_type": "stream",
     "text": [
      "[[113 114 118 121 117]\n",
      " [113 114 118 121 117]\n",
      " [ 18  90  17  81  89]\n",
      " [ 82  89  18  17  81]]\n"
     ]
    }
   ],
   "source": [
    "pois = np.load('./dataset/pois_profiling_hw_w0_v4.npz')['pois']\n",
    "print(pois)"
   ]
  },
  {
   "attachments": {},
   "cell_type": "markdown",
   "id": "11a48ffa-ef83-4fa8-a8b6-dc780d05e558",
   "metadata": {
    "tags": []
   },
   "source": [
    "#### **Template  definition**\n",
    "-----------\n",
    "We build 4 templates, one for each of the `w0` words with:\n",
    "- The corresponding POIs found during the leakage detection\n",
    "- The same selection function (identity of `w0`) used for the POIs selection\n",
    "- The HammingWeight model applied to each of the `w0` word"
   ]
  },
  {
   "cell_type": "code",
   "execution_count": 5,
   "id": "252d6e95-8ee2-4b6c-a4b7-d7a98a21ba7a",
   "metadata": {},
   "outputs": [],
   "source": [
    "def identity_w0(msg, w0):\n",
    "    return w0\n",
    "\n",
    "S = scared.reverse_selection_function(function = identity_w0)"
   ]
  },
  {
   "cell_type": "code",
   "execution_count": 6,
   "id": "ba687a4c-e2f7-495b-a966-c9576c6938b1",
   "metadata": {
    "tags": []
   },
   "outputs": [],
   "source": [
    "TAttacks = [scared.TemplateAttack(container_building = scared.Container(ths_building, frame = pois[word]),\n",
    "                                  reverse_selection_function = scared.reverse_selection_function(function = identity_w0, words = word),\n",
    "                                  model = scared.HammingWeight(),\n",
    "                                  convergence_step = 1,\n",
    "                                  partitions = np.arange(9)) for word in range(0, 4)]"
   ]
  },
  {
   "cell_type": "markdown",
   "id": "c33627c6-18c4-46d8-bb91-ed338ce7fba2",
   "metadata": {
    "tags": []
   },
   "source": [
    "#### **Build the templates**\n",
    "-----------"
   ]
  },
  {
   "cell_type": "code",
   "execution_count": 8,
   "id": "886959e6-d4ea-46ef-8a2b-dbd2b693eccb",
   "metadata": {
    "tags": []
   },
   "outputs": [],
   "source": [
    "for T in TAttacks:\n",
    "    T.build()"
   ]
  },
  {
   "cell_type": "code",
   "execution_count": 9,
   "id": "3e728fa5-e634-4b3f-bd90-d7fa495f6f6f",
   "metadata": {
    "tags": []
   },
   "outputs": [
    {
     "data": {
      "application/vnd.jupyter.widget-view+json": {
       "model_id": "32b8460b4a654d1597c778d79d97fa1b",
       "version_major": 2,
       "version_minor": 0
      },
      "text/plain": [
       "interactive(children=(IntSlider(value=0, description='word', max=3), Output()), _dom_classes=('widget-interact…"
      ]
     },
     "metadata": {},
     "output_type": "display_data"
    }
   ],
   "source": [
    "@interact(word = (0, 3, 1))\n",
    "def widget_template(word=0):\n",
    "    templates = TAttacks[word].templates\n",
    "    plt.plot(templates.T)\n",
    "    plt.title(f\"Template means for word {word}\")\n",
    "    plt.show()"
   ]
  },
  {
   "cell_type": "markdown",
   "id": "e03a5493-239a-43d0-97ed-07ddf64f8a85",
   "metadata": {},
   "source": [
    "#### **Matching** \n",
    "-----------\n",
    "We now perform the matching phase with 10 traces of the matching data set"
   ]
  },
  {
   "cell_type": "code",
   "execution_count": 10,
   "id": "7aead7a8-3431-4845-86ef-14796557126d",
   "metadata": {},
   "outputs": [],
   "source": [
    "ths_matching = ths_matching[:10]"
   ]
  },
  {
   "cell_type": "code",
   "execution_count": 11,
   "id": "3a41ce6e-9306-40ab-9847-68724925cfbd",
   "metadata": {
    "tags": []
   },
   "outputs": [
    {
     "data": {
      "text/plain": [
       "array(['0x0', '0x0', '0x0', '0x0'], dtype='<U3')"
      ]
     },
     "execution_count": 11,
     "metadata": {},
     "output_type": "execute_result"
    }
   ],
   "source": [
    "# Get the secret value to recover\n",
    "ref = ths_matching.w0[0]\n",
    "vhex(ref)"
   ]
  },
  {
   "cell_type": "code",
   "execution_count": 12,
   "id": "b9bd8f30-aeb7-45fa-961f-e48e97f59b1b",
   "metadata": {
    "tags": []
   },
   "outputs": [
    {
     "name": "stdout",
     "output_type": "stream",
     "text": [
      "The secret key is found:  ['0x0' '0x0' '0x0' '0x0']\n"
     ]
    }
   ],
   "source": [
    "for word in range(4):\n",
    "    TAttacks[word].run (scared.Container(ths_matching[:10], frame = pois[word]))\n",
    "\n",
    "K = np.array([T.scores.argmax(0).squeeze() for T in TAttacks], 'uint8')\n",
    "\n",
    "if np.array_equal(K, ref):\n",
    "    print(\"The secret key is found: \", vhex(K))\n",
    "else:\n",
    "    print(\"The recovered key is: \", vhex(K))\n",
    "    print(\"The secret key is:    \", vhex(ref))"
   ]
  },
  {
   "cell_type": "code",
   "execution_count": 13,
   "id": "d6071063-ad24-4312-bf30-1f3c9a2241c4",
   "metadata": {
    "tags": []
   },
   "outputs": [
    {
     "data": {
      "application/vnd.jupyter.widget-view+json": {
       "model_id": "906b3d78dc8e497194e7d2350d2e661a",
       "version_major": 2,
       "version_minor": 0
      },
      "text/plain": [
       "interactive(children=(IntSlider(value=3, description='word', max=3), Output()), _dom_classes=('widget-interact…"
      ]
     },
     "metadata": {},
     "output_type": "display_data"
    }
   ],
   "source": [
    "@interact(word = (0, 3, 1))\n",
    "def InteractivePlotTemplateResults(word=3):   \n",
    "    # Plot the scores\n",
    "    T = TAttacks[word]\n",
    "    s = T.scores.squeeze()   \n",
    "    \n",
    "    plt.subplot(121)\n",
    "    plt.bar(range(len(s)), s)\n",
    "    plt.bar(ref[word], s[ref[word]]) # Plot in orange the expected value\n",
    "    plt.ylim((np.min(s), np.max(s)))\n",
    "    plt.xlabel(\"Key guesses\")\n",
    "    plt.ylabel(\"Scores\")\n",
    "    plt.title(\"Templates Scores: Byte %d\"%(word))\n",
    "\n",
    "    # Visualize scores increasing with the number of matching traces\n",
    "    x = np.arange(0, len(ths_matching), T.convergence_step) + T.convergence_step\n",
    "\n",
    "    c = T.convergence_traces.squeeze()\n",
    "    c = c - c.mean(0)\n",
    "\n",
    "    plt.subplot(122)\n",
    "    plt.plot(x, c.T, 'C0')\n",
    "    plt.plot(x, c[ref[word]], 'C1')\n",
    "    plt.xlabel(\"Number of traces\")\n",
    "    plt.ylabel(\"Scores\")\n",
    "    plt.title(\"Convergence: Byte %d\"%(word))\n",
    "    \n",
    "    plt.show()"
   ]
  },
  {
   "cell_type": "code",
   "execution_count": null,
   "id": "c5399df2-42b2-4591-97ed-dfde1a1ecb2b",
   "metadata": {},
   "outputs": [],
   "source": []
  }
 ],
 "metadata": {
  "kernelspec": {
   "display_name": "Python 3 (ipykernel)",
   "language": "python",
   "name": "python3"
  },
  "language_info": {
   "codemirror_mode": {
    "name": "ipython",
    "version": 3
   },
   "file_extension": ".py",
   "mimetype": "text/x-python",
   "name": "python",
   "nbconvert_exporter": "python",
   "pygments_lexer": "ipython3",
   "version": "3.11.0"
  },
  "vscode": {
   "interpreter": {
    "hash": "dc0e027884ffb3d558627cd71f7af83c86e668b0bb78adad455e968ab074f6d2"
   }
  },
  "widgets": {
   "application/vnd.jupyter.widget-state+json": {
    "state": {
     "1db361f72f294bcd904db46c74b2acd7": {
      "model_module": "@jupyter-widgets/controls",
      "model_module_version": "1.5.0",
      "model_name": "IntSliderModel",
      "state": {
       "description": "word",
       "layout": "IPY_MODEL_db91483c56b04ae1a7f5c90ff249a5ed",
       "max": 15,
       "style": "IPY_MODEL_e19e7de267d14fd9ac71a7860170e96d"
      }
     },
     "394ecc5544d5428197547547aa1637c6": {
      "model_module": "@jupyter-widgets/controls",
      "model_module_version": "1.5.0",
      "model_name": "VBoxModel",
      "state": {
       "_dom_classes": [
        "widget-interact"
       ],
       "children": [
        "IPY_MODEL_68ae416b008f4e45a01fc941505637f7",
        "IPY_MODEL_855047d2e0854a1ca1fe1a8698d2a322"
       ],
       "layout": "IPY_MODEL_591baa767aff43948cda24c950300e8a"
      }
     },
     "3b5d2a9107a14cd4860eb02085d4cc15": {
      "model_module": "@jupyter-widgets/base",
      "model_module_version": "1.2.0",
      "model_name": "LayoutModel",
      "state": {}
     },
     "591baa767aff43948cda24c950300e8a": {
      "model_module": "@jupyter-widgets/base",
      "model_module_version": "1.2.0",
      "model_name": "LayoutModel",
      "state": {}
     },
     "68ae416b008f4e45a01fc941505637f7": {
      "model_module": "@jupyter-widgets/controls",
      "model_module_version": "1.5.0",
      "model_name": "IntSliderModel",
      "state": {
       "description": "word",
       "layout": "IPY_MODEL_3b5d2a9107a14cd4860eb02085d4cc15",
       "max": 15,
       "style": "IPY_MODEL_9f8b560b17a343dabe99b04ae8cb0fd6"
      }
     },
     "855047d2e0854a1ca1fe1a8698d2a322": {
      "model_module": "@jupyter-widgets/output",
      "model_module_version": "1.0.0",
      "model_name": "OutputModel",
      "state": {
       "layout": "IPY_MODEL_be26a850bcbe4cafaacc895e768406e2",
       "outputs": [
        {
         "data": {
          "image/png": "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\n",
          "text/plain": "<Figure size 1440x144 with 1 Axes>"
         },
         "metadata": {
          "needs_background": "light"
         },
         "output_type": "display_data"
        }
       ]
      }
     },
     "9ec700e14e8f4b7e8eee0c373f28c4f8": {
      "model_module": "@jupyter-widgets/controls",
      "model_module_version": "1.5.0",
      "model_name": "VBoxModel",
      "state": {
       "_dom_classes": [
        "widget-interact"
       ],
       "children": [
        "IPY_MODEL_1db361f72f294bcd904db46c74b2acd7",
        "IPY_MODEL_d140a6ea137542e8ada7ba085b9d513f"
       ],
       "layout": "IPY_MODEL_f8cdeac6a71c490ebba79a07a3114ba0"
      }
     },
     "9f8b560b17a343dabe99b04ae8cb0fd6": {
      "model_module": "@jupyter-widgets/controls",
      "model_module_version": "1.5.0",
      "model_name": "SliderStyleModel",
      "state": {
       "description_width": ""
      }
     },
     "be26a850bcbe4cafaacc895e768406e2": {
      "model_module": "@jupyter-widgets/base",
      "model_module_version": "1.2.0",
      "model_name": "LayoutModel",
      "state": {}
     },
     "d140a6ea137542e8ada7ba085b9d513f": {
      "model_module": "@jupyter-widgets/output",
      "model_module_version": "1.0.0",
      "model_name": "OutputModel",
      "state": {
       "layout": "IPY_MODEL_e314206741264d9c89c22015c222df27",
       "outputs": [
        {
         "data": {
          "image/png": "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\n",
          "text/plain": "<Figure size 1440x144 with 1 Axes>"
         },
         "metadata": {
          "needs_background": "light"
         },
         "output_type": "display_data"
        }
       ]
      }
     },
     "db91483c56b04ae1a7f5c90ff249a5ed": {
      "model_module": "@jupyter-widgets/base",
      "model_module_version": "1.2.0",
      "model_name": "LayoutModel",
      "state": {}
     },
     "e19e7de267d14fd9ac71a7860170e96d": {
      "model_module": "@jupyter-widgets/controls",
      "model_module_version": "1.5.0",
      "model_name": "SliderStyleModel",
      "state": {
       "description_width": ""
      }
     },
     "e314206741264d9c89c22015c222df27": {
      "model_module": "@jupyter-widgets/base",
      "model_module_version": "1.2.0",
      "model_name": "LayoutModel",
      "state": {}
     },
     "f8cdeac6a71c490ebba79a07a3114ba0": {
      "model_module": "@jupyter-widgets/base",
      "model_module_version": "1.2.0",
      "model_name": "LayoutModel",
      "state": {}
     }
    },
    "version_major": 2,
    "version_minor": 0
   }
  }
 },
 "nbformat": 4,
 "nbformat_minor": 5
}
