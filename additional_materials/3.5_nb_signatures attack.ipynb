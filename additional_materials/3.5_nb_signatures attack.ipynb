{
 "cells": [
  {
   "cell_type": "markdown",
   "id": "fcf23a97-5527-4fb1-93fc-31c9ad1519d3",
   "metadata": {},
   "source": [
    "### **Numbers of signatures needed for a complete attack**\n",
    "--------------"
   ]
  },
  {
   "cell_type": "markdown",
   "id": "12275a96-f35d-4c49-ba72-118b6f65b3bb",
   "metadata": {
    "slideshow": {
     "slide_type": ""
    },
    "tags": []
   },
   "source": [
    "##### **Libraries**\n",
    "--------------"
   ]
  },
  {
   "cell_type": "code",
   "execution_count": 1,
   "id": "f9c558de",
   "metadata": {
    "slideshow": {
     "slide_type": ""
    },
    "tags": []
   },
   "outputs": [],
   "source": [
    "import matplotlib.pyplot as plt\n",
    "import numpy as np"
   ]
  },
  {
   "cell_type": "markdown",
   "id": "26b42613-e23b-4fb5-889c-d5a5d3c1e762",
   "metadata": {},
   "source": [
    "##### **Code**\n",
    "--------------"
   ]
  },
  {
   "cell_type": "code",
   "execution_count": 2,
   "id": "d2fe3893",
   "metadata": {},
   "outputs": [],
   "source": [
    "# Numbers of coefficients \n",
    "n = 256\n",
    "\n",
    "# Module used in Dilithium \n",
    "q = 8380417"
   ]
  },
  {
   "cell_type": "code",
   "execution_count": 3,
   "id": "9f293323",
   "metadata": {
    "slideshow": {
     "slide_type": ""
    },
    "tags": []
   },
   "outputs": [],
   "source": [
    "# Dilithium mode options 2, 3 and 5\n",
    "mode = 2\n",
    "\n",
    "if mode == 2:\n",
    "    k = 4\n",
    "    gamma2 = (q -1)//88\n",
    "else:\n",
    "    gamma2 = (q - 1)//32\n",
    "    if mode == 3:\n",
    "        k = 6\n",
    "    else:\n",
    "        k = 8"
   ]
  },
  {
   "cell_type": "markdown",
   "id": "c868abd1",
   "metadata": {},
   "source": [
    "Such as presented in section 3.5, we know that for i and j such that $0 \\leq i < k$ and $0 \\leq j < n$, $(\\textbf{w}_0)_{i, j} \\in ]- \\gamma_2, \\, \\gamma_2]$.\n",
    "\n",
    "Therefore, for a fixed $(i,j), \\, (\\textbf{w}_0)_{i, j} = 0$  with probability  $\\dfrac{1}{2 \\, \\gamma_2  }$. \n",
    "\n",
    "Hence, one coordinate is not equal to zero with probability $ 1 - \\dfrac{1}{2 \\, \\gamma_2 }$. \n",
    "\n",
    "Over $T$ independnant experiences, a coordinate is not equal to zero with probability  $( 1 - \\dfrac{1}{2 \\, \\gamma_2 })^T$. \n",
    "\n",
    "Hence, a coordinate is equal to zero at least once with probability  $ 1 - ( 1 - \\dfrac{1}{2 \\, \\gamma_2})^T$. \n",
    "\n",
    "Therefore, over $T$ experiences the $n$ coordinates are equal to zero at least once with probability $ \\biggl( 1 - \\Bigl( 1 - \\dfrac{1}{2 \\, \\gamma_2} \\Bigl)^T \\biggl) ^n$."
   ]
  },
  {
   "cell_type": "code",
   "execution_count": 4,
   "id": "f50deddb",
   "metadata": {},
   "outputs": [],
   "source": [
    "def probability(T, N = k*n):\n",
    "    \"\"\"\n",
    "    T(int):  number of repetitions\n",
    "    N(int):  number of coefficients considered for Dilithium\n",
    "             default k*n (all the coeffs.)\n",
    "    outputs: probability to have over T signatures the N coordinates = 0 at least once \n",
    "    \"\"\"\n",
    "    p = pow(1 - 1/(2*gamma2), T)\n",
    "    return pow(1 - p, N)\n",
    "\n",
    "def get_proba_sup_bound(proba, N = k*n):\n",
    "    \"\"\"\n",
    "    proba(int): minimal selected probability\n",
    "    N(int):     number of coefficients considered for Dilithium\n",
    "                default k*n (all the coeffs.)\n",
    "    outputs:    Number of experiences to acheive the bound  \n",
    "    \"\"\"\n",
    "    T = 0\n",
    "    while( probability(T, N) < proba):\n",
    "        T += 1\n",
    "    return T"
   ]
  },
  {
   "cell_type": "markdown",
   "id": "103836e3",
   "metadata": {},
   "source": [
    "Here we determine the number of signatures needed such that we have recovered all the index $0 \\leq i < k$ and $0 \\leq j < n$ such that $(\\textbf{w}_0)_{i, j} = 0$  with:\n",
    "\n",
    "- probability $1$, i.e., we are sure that we have all the index at least once\n",
    "- probability $0.997$, i.e., we have all the index at least once with high probability"
   ]
  },
  {
   "cell_type": "code",
   "execution_count": 5,
   "id": "f0b9b342",
   "metadata": {},
   "outputs": [
    {
     "name": "stdout",
     "output_type": "stream",
     "text": [
      "Signatures Needed such that the proba is 1     =  7129039\n",
      "Signatures Needed such that the proba is 0.997 =  2426337\n"
     ]
    }
   ],
   "source": [
    "# Number of signatures needed to get the N coordinates = 0 at least once with a probability equal to 1 \n",
    "signatures1 = get_proba_sup_bound(1)\n",
    "print(\"Signatures Needed such that the proba is 1     = \", signatures1)\n",
    "\n",
    "# Number of signatures needed to get the N coordinates = 0 at least once with a probability equal to 0.997 \n",
    "signatures2 = get_proba_sup_bound(0.997)\n",
    "print(\"Signatures Needed such that the proba is 0.997 = \", signatures2)"
   ]
  },
  {
   "cell_type": "markdown",
   "id": "7a2cf329",
   "metadata": {},
   "source": [
    "Now, let us compute the evolution of this probability as a function of the number of signatures collected:"
   ]
  },
  {
   "cell_type": "code",
   "execution_count": 6,
   "id": "81b461d0",
   "metadata": {},
   "outputs": [],
   "source": [
    "# Suppose we can collect a maximum total_nb_signatures\n",
    "total_nb_signatures = 10000000\n",
    "\n",
    "liste_of_probas = [probability(T) for T in range(total_nb_signatures)]"
   ]
  },
  {
   "cell_type": "code",
   "execution_count": 7,
   "id": "7c3c9865",
   "metadata": {
    "slideshow": {
     "slide_type": ""
    },
    "tags": []
   },
   "outputs": [
    {
     "data": {
      "image/png": "[encoded data removed]",
      "text/plain": [
       "<Figure size 1080x360 with 1 Axes>"
      ]
     },
     "metadata": {
      "needs_background": "light"
     },
     "output_type": "display_data"
    }
   ],
   "source": [
    "fg, ax = plt.subplots(figsize=(15, 5))\n",
    "ax.plot(range(total_nb_signatures), liste_of_probas)\n",
    "plt.xlim(0, signatures1)\n",
    "ax.grid()\n",
    "ax.set_xlabel(\"Number of signatures\", fontsize = 15)\n",
    "ax.set_ylabel(\"Probability to obtain all the $n$ coeffs.\", fontsize = 13)\n",
    "ax.axvline(signatures2, color = \"r\",  linestyle = 'dashed', label = r\"p = $0.997$\")\n",
    "ax.tick_params(axis='both', which='major', labelsize = 15)\n",
    "ax.legend(loc = \"lower right\", prop={'size': 15})\n",
    "plt.show()"
   ]
  }
 ],
 "metadata": {
  "kernelspec": {
   "display_name": "Python 3 (ipykernel)",
   "language": "python",
   "name": "python3"
  },
  "language_info": {
   "codemirror_mode": {
    "name": "ipython",
    "version": 3
   },
   "file_extension": ".py",
   "mimetype": "text/x-python",
   "name": "python",
   "nbconvert_exporter": "python",
   "pygments_lexer": "ipython3",
   "version": "3.9.12"
  }
 },
 "nbformat": 4,
 "nbformat_minor": 5
}
